{
  "nbformat": 4,
  "nbformat_minor": 0,
  "metadata": {
    "colab": {
      "provenance": []
    },
    "kernelspec": {
      "name": "python3",
      "display_name": "Python 3"
    },
    "language_info": {
      "name": "python"
    }
  },
  "cells": [
    {
      "cell_type": "code",
      "execution_count": 1,
      "metadata": {
        "colab": {
          "base_uri": "https://localhost:8080/"
        },
        "id": "z2oOmoTfvnkz",
        "outputId": "6a2320f8-254e-4eca-c6bd-eacbdb429105"
      },
      "outputs": [
        {
          "output_type": "stream",
          "name": "stdout",
          "text": [
            "Enter the base value: 3\n",
            "Enter the square value: 4\n",
            "81\n"
          ]
        }
      ],
      "source": [
        "# 1.Python program to find square of a number\n",
        "\n",
        "a = int(input(\"Enter the base value: \"))\n",
        "b = int(input(\"Enter the square value: \"))\n",
        "c = a**b\n",
        "print(c)"
      ]
    },
    {
      "cell_type": "code",
      "source": [
        "# 2.Python program to find celsius to fahrenheit\n",
        "\n",
        "celsius = int(input(\"Enter the celsius value :\"))\n",
        "fahrenheit = (1.8 * celsius) +32\n",
        "print(\"The Celsius to fahrenheit converted value is :\",fahrenheit)"
      ],
      "metadata": {
        "colab": {
          "base_uri": "https://localhost:8080/"
        },
        "id": "A9R6W1Ubwf-F",
        "outputId": "ac7273e5-9045-4f1b-f261-3cfc7c408141"
      },
      "execution_count": 2,
      "outputs": [
        {
          "output_type": "stream",
          "name": "stdout",
          "text": [
            "Enter the celsius value :36\n",
            "The Celsius to fahrenheit converted value is : 96.8\n"
          ]
        }
      ]
    },
    {
      "cell_type": "code",
      "source": [
        "# 3.Python program to check whether the givien number is Positive or negative or zero.\n",
        "\n",
        "a = int(input(\"Enter the Value to check :\"))\n",
        "if a > 0:\n",
        "  print(\"The given number\", a, \"is positive\")\n",
        "elif a < 0:\n",
        "  print(\"The given number\", a, \"is negative\")\n",
        "else:\n",
        "  print(\"The given number\", a, \"is zero\")\n",
        "\n"
      ],
      "metadata": {
        "colab": {
          "base_uri": "https://localhost:8080/"
        },
        "id": "gBDYmElxx0nZ",
        "outputId": "b6a8b196-b9a0-4096-925f-5c975dc35924"
      },
      "execution_count": 11,
      "outputs": [
        {
          "output_type": "stream",
          "name": "stdout",
          "text": [
            "Enter the Value to check :-4\n",
            "The given number -4 is negative\n"
          ]
        }
      ]
    },
    {
      "cell_type": "code",
      "source": [
        "# 4.Python program to find the largest among three numbers\n",
        "\n",
        "a = int(input(\"Enter the first value :\"))\n",
        "b = int(input(\"Enter the second value :\"))\n",
        "c = int(input(\"Enter the third value :\"))\n",
        "if a > b and a > c:\n",
        "  print(\"The largest value is \",a)\n",
        "elif b > a and b > c :\n",
        "  print(\"The largest value is \",b)\n",
        "else :\n",
        "  print(\"the largest value is \",c)"
      ],
      "metadata": {
        "colab": {
          "base_uri": "https://localhost:8080/"
        },
        "id": "ZYuifzUHzz4x",
        "outputId": "ec389352-55c7-4f9d-8a41-8410f50c9f24"
      },
      "execution_count": 14,
      "outputs": [
        {
          "output_type": "stream",
          "name": "stdout",
          "text": [
            "Enter the first value :73\n",
            "Enter the second value :23\n",
            "Enter the third value :18\n",
            "The largest value is  73\n"
          ]
        }
      ]
    },
    {
      "cell_type": "code",
      "source": [
        "# 5."
      ],
      "metadata": {
        "id": "SxWC9U9R25lW"
      },
      "execution_count": null,
      "outputs": []
    }
  ]
}