{
  "nbformat": 4,
  "nbformat_minor": 0,
  "metadata": {
    "colab": {
      "provenance": [],
      "authorship_tag": "ABX9TyO9SnsMXXTlRGm2J7+kr9re",
      "include_colab_link": true
    },
    "kernelspec": {
      "name": "python3",
      "display_name": "Python 3"
    },
    "language_info": {
      "name": "python"
    }
  },
  "cells": [
    {
      "cell_type": "markdown",
      "metadata": {
        "id": "view-in-github",
        "colab_type": "text"
      },
      "source": [
        "<a href=\"https://colab.research.google.com/github/surya-071/Python_Programs/blob/main/Python02.ipynb\" target=\"_parent\"><img src=\"https://colab.research.google.com/assets/colab-badge.svg\" alt=\"Open In Colab\"/></a>"
      ]
    },
    {
      "cell_type": "code",
      "execution_count": null,
      "metadata": {
        "colab": {
          "base_uri": "https://localhost:8080/"
        },
        "id": "SfJDM9L_cdv8",
        "outputId": "4d427d1d-7db8-41a2-ab70-f9d03fd78827"
      },
      "outputs": [
        {
          "output_type": "stream",
          "name": "stdout",
          "text": [
            "Enter the number : 6\n",
            "The Factorial value is  1\n",
            "The Factorial value is  2\n",
            "The Factorial value is  6\n",
            "The Factorial value is  24\n",
            "The Factorial value is  120\n",
            "The Factorial value is  720\n"
          ]
        }
      ],
      "source": [
        "# Factorial number\n",
        "Num = int(input(\"Enter the number : \"))\n",
        "Fact = 1\n",
        "if Num < 0:\n",
        "  print(\"Factorial does not exist for Negative numbers\")\n",
        "elif Num == 0:\n",
        "  print(\"The Factorial of 0 is 1\")\n",
        "else:\n",
        "  for i in range (1,Num + 1):\n",
        "    Fact = Fact * i\n",
        "    print(\"The Factorial value is \",Fact)"
      ]
    },
    {
      "cell_type": "code",
      "source": [
        "# Tables in Python\n",
        "Num = int (input(\"Entet the value\"))\n",
        "for i in range(1, 17):\n",
        "  print(i, \"X\", Num, \"=\", Num*i)"
      ],
      "metadata": {
        "colab": {
          "base_uri": "https://localhost:8080/"
        },
        "id": "pMNa_gr225Ws",
        "outputId": "f9525035-3fed-4a86-ce90-25cd95b4ea36"
      },
      "execution_count": null,
      "outputs": [
        {
          "output_type": "stream",
          "name": "stdout",
          "text": [
            "Entet the value7\n",
            "1 X 7 = 7\n",
            "2 X 7 = 14\n",
            "3 X 7 = 21\n",
            "4 X 7 = 28\n",
            "5 X 7 = 35\n",
            "6 X 7 = 42\n",
            "7 X 7 = 49\n",
            "8 X 7 = 56\n",
            "9 X 7 = 63\n",
            "10 X 7 = 70\n",
            "11 X 7 = 77\n",
            "12 X 7 = 84\n",
            "13 X 7 = 91\n",
            "14 X 7 = 98\n",
            "15 X 7 = 105\n",
            "16 X 7 = 112\n"
          ]
        }
      ]
    },
    {
      "cell_type": "code",
      "source": [
        "# Area of cercle\n",
        "r = int(input(\"Enter the radius of cercle :\" ))\n",
        "pi = 3.14\n",
        "print(pi*(r**2))"
      ],
      "metadata": {
        "colab": {
          "base_uri": "https://localhost:8080/"
        },
        "id": "kZSSzyiVPnRu",
        "outputId": "0af0b165-7009-4f55-9fc9-1b2a6af1d999"
      },
      "execution_count": 1,
      "outputs": [
        {
          "output_type": "stream",
          "name": "stdout",
          "text": [
            "Enter the radius of cercle :3\n",
            "28.26\n"
          ]
        }
      ]
    },
    {
      "cell_type": "code",
      "source": [
        "# Leap year\n",
        "\n",
        "year =int(input(\"Enter the year :\"))\n",
        "if ((year % 400 == 0) or\n",
        "   (year % 100 != 0) and\n",
        "   (year % 4 == 0)):\n",
        "   print(year, \"is an leap year\")\n",
        "else :\n",
        "  print(year, \"is an not a leap year\")\n"
      ],
      "metadata": {
        "colab": {
          "base_uri": "https://localhost:8080/"
        },
        "id": "Hp4318JBQaOf",
        "outputId": "278fa3cc-81bc-42ca-85a2-248ca0297d94"
      },
      "execution_count": 10,
      "outputs": [
        {
          "output_type": "stream",
          "name": "stdout",
          "text": [
            "Enter the year :2024\n",
            "2024 is an leap year\n"
          ]
        }
      ]
    }
  ]
}